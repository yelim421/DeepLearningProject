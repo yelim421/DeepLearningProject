{
 "cells": [
  {
   "cell_type": "code",
   "execution_count": 13,
   "metadata": {},
   "outputs": [
    {
     "name": "stdout",
     "output_type": "stream",
     "text": [
      "Defaulting to user installation because normal site-packages is not writeable\n",
      "Collecting face_recognition\n",
      "  Using cached face_recognition-1.3.0-py2.py3-none-any.whl (15 kB)\n",
      "Collecting face-recognition-models>=0.3.0\n",
      "  Using cached face_recognition_models-0.3.0-py2.py3-none-any.whl\n",
      "Requirement already satisfied: Pillow in /Users/yelimkim/Library/Python/3.9/lib/python/site-packages (from face_recognition) (9.3.0)\n",
      "Collecting numpy\n",
      "  Downloading numpy-1.23.5-cp39-cp39-macosx_11_0_arm64.whl (13.4 MB)\n",
      "\u001b[K     |████████████████████████████████| 13.4 MB 11.2 MB/s eta 0:00:01\n",
      "\u001b[?25hCollecting Click>=6.0\n",
      "  Downloading click-8.1.3-py3-none-any.whl (96 kB)\n",
      "\u001b[K     |████████████████████████████████| 96 kB 35.3 MB/s eta 0:00:01\n",
      "\u001b[?25hCollecting dlib>=19.7\n",
      "  Using cached dlib-19.24.0.tar.gz (3.2 MB)\n",
      "Building wheels for collected packages: dlib\n",
      "  Building wheel for dlib (setup.py) ... \u001b[?25lerror\n",
      "\u001b[31m  ERROR: Command errored out with exit status 1:\n",
      "   command: /Library/Developer/CommandLineTools/usr/bin/python3 -u -c 'import io, os, sys, setuptools, tokenize; sys.argv[0] = '\"'\"'/private/var/folders/d1/pg159q7d3csgv2vbg1k_134m0000gn/T/pip-install-hjb3uj2e/dlib_350b39465b274f678af336c2dc74aab9/setup.py'\"'\"'; __file__='\"'\"'/private/var/folders/d1/pg159q7d3csgv2vbg1k_134m0000gn/T/pip-install-hjb3uj2e/dlib_350b39465b274f678af336c2dc74aab9/setup.py'\"'\"';f = getattr(tokenize, '\"'\"'open'\"'\"', open)(__file__) if os.path.exists(__file__) else io.StringIO('\"'\"'from setuptools import setup; setup()'\"'\"');code = f.read().replace('\"'\"'\\r\\n'\"'\"', '\"'\"'\\n'\"'\"');f.close();exec(compile(code, __file__, '\"'\"'exec'\"'\"'))' bdist_wheel -d /private/var/folders/d1/pg159q7d3csgv2vbg1k_134m0000gn/T/pip-wheel-8g8hxi9s\n",
      "       cwd: /private/var/folders/d1/pg159q7d3csgv2vbg1k_134m0000gn/T/pip-install-hjb3uj2e/dlib_350b39465b274f678af336c2dc74aab9/\n",
      "  Complete output (8 lines):\n",
      "  running bdist_wheel\n",
      "  running build\n",
      "  running build_py\n",
      "  package init file 'tools/python/dlib/__init__.py' not found (or not a regular file)\n",
      "  running build_ext\n",
      "  \n",
      "  ERROR: CMake must be installed to build dlib\n",
      "  \n",
      "  ----------------------------------------\u001b[0m\n",
      "\u001b[31m  ERROR: Failed building wheel for dlib\u001b[0m\n",
      "\u001b[?25h  Running setup.py clean for dlib\n",
      "Failed to build dlib\n",
      "Installing collected packages: numpy, face-recognition-models, dlib, Click, face-recognition\n",
      "\u001b[33m  WARNING: The scripts f2py, f2py3 and f2py3.9 are installed in '/Users/yelimkim/Library/Python/3.9/bin' which is not on PATH.\n",
      "  Consider adding this directory to PATH or, if you prefer to suppress this warning, use --no-warn-script-location.\u001b[0m\n",
      "    Running setup.py install for dlib ... \u001b[?25lerror\n",
      "\u001b[31m    ERROR: Command errored out with exit status 1:\n",
      "     command: /Library/Developer/CommandLineTools/usr/bin/python3 -u -c 'import io, os, sys, setuptools, tokenize; sys.argv[0] = '\"'\"'/private/var/folders/d1/pg159q7d3csgv2vbg1k_134m0000gn/T/pip-install-hjb3uj2e/dlib_350b39465b274f678af336c2dc74aab9/setup.py'\"'\"'; __file__='\"'\"'/private/var/folders/d1/pg159q7d3csgv2vbg1k_134m0000gn/T/pip-install-hjb3uj2e/dlib_350b39465b274f678af336c2dc74aab9/setup.py'\"'\"';f = getattr(tokenize, '\"'\"'open'\"'\"', open)(__file__) if os.path.exists(__file__) else io.StringIO('\"'\"'from setuptools import setup; setup()'\"'\"');code = f.read().replace('\"'\"'\\r\\n'\"'\"', '\"'\"'\\n'\"'\"');f.close();exec(compile(code, __file__, '\"'\"'exec'\"'\"'))' install --record /private/var/folders/d1/pg159q7d3csgv2vbg1k_134m0000gn/T/pip-record-3dik5jfj/install-record.txt --single-version-externally-managed --user --prefix= --compile --install-headers /Users/yelimkim/Library/Python/3.9/include/python3.9/dlib\n",
      "         cwd: /private/var/folders/d1/pg159q7d3csgv2vbg1k_134m0000gn/T/pip-install-hjb3uj2e/dlib_350b39465b274f678af336c2dc74aab9/\n",
      "    Complete output (8 lines):\n",
      "    running install\n",
      "    running build\n",
      "    running build_py\n",
      "    package init file 'tools/python/dlib/__init__.py' not found (or not a regular file)\n",
      "    running build_ext\n",
      "    \n",
      "    ERROR: CMake must be installed to build dlib\n",
      "    \n",
      "    ----------------------------------------\u001b[0m\n",
      "\u001b[?25h\u001b[31mERROR: Command errored out with exit status 1: /Library/Developer/CommandLineTools/usr/bin/python3 -u -c 'import io, os, sys, setuptools, tokenize; sys.argv[0] = '\"'\"'/private/var/folders/d1/pg159q7d3csgv2vbg1k_134m0000gn/T/pip-install-hjb3uj2e/dlib_350b39465b274f678af336c2dc74aab9/setup.py'\"'\"'; __file__='\"'\"'/private/var/folders/d1/pg159q7d3csgv2vbg1k_134m0000gn/T/pip-install-hjb3uj2e/dlib_350b39465b274f678af336c2dc74aab9/setup.py'\"'\"';f = getattr(tokenize, '\"'\"'open'\"'\"', open)(__file__) if os.path.exists(__file__) else io.StringIO('\"'\"'from setuptools import setup; setup()'\"'\"');code = f.read().replace('\"'\"'\\r\\n'\"'\"', '\"'\"'\\n'\"'\"');f.close();exec(compile(code, __file__, '\"'\"'exec'\"'\"'))' install --record /private/var/folders/d1/pg159q7d3csgv2vbg1k_134m0000gn/T/pip-record-3dik5jfj/install-record.txt --single-version-externally-managed --user --prefix= --compile --install-headers /Users/yelimkim/Library/Python/3.9/include/python3.9/dlib Check the logs for full command output.\u001b[0m\n",
      "\u001b[33mWARNING: You are using pip version 21.2.4; however, version 22.3.1 is available.\n",
      "You should consider upgrading via the '/Library/Developer/CommandLineTools/usr/bin/python3 -m pip install --upgrade pip' command.\u001b[0m\n",
      "Note: you may need to restart the kernel to use updated packages.\n"
     ]
    }
   ],
   "source": [
    "pip install face_recognition"
   ]
  },
  {
   "cell_type": "code",
   "execution_count": 9,
   "metadata": {},
   "outputs": [
    {
     "name": "stdout",
     "output_type": "stream",
     "text": [
      "Defaulting to user installation because normal site-packages is not writeable\n",
      "Collecting pillow\n",
      "  Downloading Pillow-9.3.0-cp39-cp39-macosx_11_0_arm64.whl (2.9 MB)\n",
      "\u001b[K     |████████████████████████████████| 2.9 MB 9.5 MB/s eta 0:00:01\n",
      "\u001b[?25hInstalling collected packages: pillow\n",
      "Successfully installed pillow-9.3.0\n",
      "\u001b[33mWARNING: You are using pip version 21.2.4; however, version 22.3.1 is available.\n",
      "You should consider upgrading via the '/Library/Developer/CommandLineTools/usr/bin/python3 -m pip install --upgrade pip' command.\u001b[0m\n",
      "Note: you may need to restart the kernel to use updated packages.\n"
     ]
    }
   ],
   "source": [
    "pip install pillow"
   ]
  },
  {
   "cell_type": "code",
   "execution_count": 1,
   "metadata": {},
   "outputs": [],
   "source": [
    "from PIL import Image\n",
    "import face_recognition"
   ]
  },
  {
   "cell_type": "code",
   "execution_count": 3,
   "metadata": {},
   "outputs": [
    {
     "name": "stdout",
     "output_type": "stream",
     "text": [
      "I found 1 face(s) in this photograph.\n",
      "A face is located at pixel location Top: 80, Left: 67, Bottom: 187, Right: 175\n"
     ]
    }
   ],
   "source": [
    "image = face_recognition.load_image_file(\"/Users/yelimkim/dlib/Deep_Learning_Project/dataset/training_set/Aaron_Eckhart/Aaron_Eckhart_0001.jpg\")\n",
    "face_locations = face_recognition.face_locations(image)\n",
    "print(\"I found {} face(s) in this photograph.\".format(len(face_locations)))\n",
    "\n",
    "for face_location in face_locations:\n",
    "\n",
    "    # Print the location of each face in this image\n",
    "    top, right, bottom, left = face_location\n",
    "    print(\"A face is located at pixel location Top: {}, Left: {}, Bottom: {}, Right: {}\".format(top, left, bottom, right))\n",
    "\n",
    "    # You can access the actual face itself like this:\n",
    "    face_image = image[top:bottom, left:right]\n",
    "    pil_image = Image.fromarray(face_image)\n",
    "    pil_image.show()"
   ]
  },
  {
   "cell_type": "code",
   "execution_count": 4,
   "metadata": {},
   "outputs": [
    {
     "name": "stdout",
     "output_type": "stream",
     "text": [
      "I found 1 face(s) in this photograph.\n",
      "The chin in this face has the following points: [(80, 101), (79, 114), (80, 128), (81, 142), (84, 155), (90, 168), (98, 180), (108, 189), (120, 193), (131, 191), (141, 184), (151, 174), (158, 163), (163, 151), (166, 139), (169, 126), (171, 113)]\n",
      "The left_eyebrow in this face has the following points: [(90, 100), (97, 97), (104, 97), (112, 98), (119, 101)]\n",
      "The right_eyebrow in this face has the following points: [(137, 102), (145, 101), (153, 102), (160, 104), (165, 109)]\n",
      "The nose_bridge in this face has the following points: [(128, 112), (127, 122), (126, 132), (125, 142)]\n",
      "The nose_tip in this face has the following points: [(114, 145), (119, 147), (123, 150), (128, 148), (132, 147)]\n",
      "The left_eye in this face has the following points: [(99, 107), (104, 105), (110, 106), (115, 111), (109, 111), (103, 110)]\n",
      "The right_eye in this face has the following points: [(138, 114), (144, 110), (150, 111), (155, 114), (150, 116), (144, 115)]\n",
      "The top_lip in this face has the following points: [(105, 158), (112, 157), (117, 157), (122, 159), (128, 159), (133, 160), (139, 161), (137, 162), (128, 161), (122, 161), (117, 160), (108, 158)]\n",
      "The bottom_lip in this face has the following points: [(139, 161), (133, 166), (127, 167), (121, 167), (116, 166), (111, 163), (105, 158), (108, 158), (117, 161), (122, 162), (128, 162), (137, 162)]\n"
     ]
    }
   ],
   "source": [
    "from PIL import Image, ImageDraw\n",
    "import face_recognition\n",
    "\n",
    "# Load the jpg file into a numpy array\n",
    "image = face_recognition.load_image_file(\"/Users/yelimkim/dlib/Deep_Learning_Project/dataset/training_set/Aaron_Eckhart/Aaron_Eckhart_0001.jpg\")\n",
    "\n",
    "# Find all facial features in all the faces in the image\n",
    "face_landmarks_list = face_recognition.face_landmarks(image)\n",
    "\n",
    "print(\"I found {} face(s) in this photograph.\".format(len(face_landmarks_list)))\n",
    "\n",
    "# Create a PIL imagedraw object so we can draw on the picture\n",
    "pil_image = Image.fromarray(image)\n",
    "d = ImageDraw.Draw(pil_image)\n",
    "\n",
    "for face_landmarks in face_landmarks_list:\n",
    "\n",
    "    # Print the location of each facial feature in this image\n",
    "    for facial_feature in face_landmarks.keys():\n",
    "        print(\"The {} in this face has the following points: {}\".format(facial_feature, face_landmarks[facial_feature]))\n",
    "\n",
    "    # Let's trace out each facial feature in the image with a line!\n",
    "    for facial_feature in face_landmarks.keys():\n",
    "        d.line(face_landmarks[facial_feature], width=5)\n",
    "\n",
    "# Show the picture\n",
    "pil_image.show()"
   ]
  },
  {
   "cell_type": "code",
   "execution_count": null,
   "metadata": {},
   "outputs": [],
   "source": []
  }
 ],
 "metadata": {
  "kernelspec": {
   "display_name": "Python 3 (ipykernel)",
   "language": "python",
   "name": "python3"
  },
  "language_info": {
   "codemirror_mode": {
    "name": "ipython",
    "version": 3
   },
   "file_extension": ".py",
   "mimetype": "text/x-python",
   "name": "python",
   "nbconvert_exporter": "python",
   "pygments_lexer": "ipython3",
   "version": "3.9.12"
  },
  "vscode": {
   "interpreter": {
    "hash": "31f2aee4e71d21fbe5cf8b01ff0e069b9275f58929596ceb00d14d90e3e16cd6"
   }
  }
 },
 "nbformat": 4,
 "nbformat_minor": 2
}
